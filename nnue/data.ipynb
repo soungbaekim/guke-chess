{
 "cells": [
  {
   "cell_type": "code",
   "execution_count": 15,
   "metadata": {},
   "outputs": [
    {
     "name": "stdout",
     "output_type": "stream",
     "text": [
      "(tensor([[10,  6,  9, 12, 11,  9,  8, 10],\n",
      "        [ 7,  7,  7,  6,  6,  6,  7,  6],\n",
      "        [ 6,  6,  8,  6,  6,  6,  6,  7],\n",
      "        [ 6,  6,  4,  6,  7,  6,  6,  6],\n",
      "        [ 6,  6,  6,  7,  6,  6,  6,  6],\n",
      "        [ 6,  6,  6,  5,  6,  4,  6,  6],\n",
      "        [ 5,  5,  5,  6,  5,  6,  5,  5],\n",
      "        [ 2,  6,  3,  0,  1,  3,  6,  2]]), tensor(-590))\n",
      "(tensor([[10,  8,  9, 11, 12,  9,  8, 10],\n",
      "        [ 7,  7,  7,  7,  7,  7,  7,  7],\n",
      "        [ 6,  6,  6,  6,  6,  6,  6,  6],\n",
      "        [ 6,  6,  6,  6,  6,  6,  6,  6],\n",
      "        [ 6,  6,  6,  6,  6,  6,  6,  6],\n",
      "        [ 6,  6,  6,  6,  6,  4,  6,  6],\n",
      "        [ 5,  5,  5,  5,  5,  5,  5,  5],\n",
      "        [ 2,  4,  3,  1,  0,  3,  6,  2]]), tensor(24))\n"
     ]
    }
   ],
   "source": [
    "import io\n",
    "import torch\n",
    "import torch.nn as nn\n",
    "import numpy as np\n",
    "import chess.pgn\n",
    "from chess import Board\n",
    "import torch.nn.functional as F\n",
    "\n",
    "from utils.datasets import EVAL_HDF_Dataset\n",
    "\n",
    "dataset = EVAL_HDF_Dataset('/data')\n",
    "print(dataset[400])\n",
    "print(dataset[1])"
   ]
  },
  {
   "cell_type": "code",
   "execution_count": 3,
   "metadata": {},
   "outputs": [
    {
     "name": "stdout",
     "output_type": "stream",
     "text": [
      "(tensor([[10,  8,  9, 11, 12,  9,  8, 10],\n",
      "        [ 7,  7,  7,  7,  7,  7,  7,  7],\n",
      "        [ 6,  6,  6,  6,  6,  6,  6,  6],\n",
      "        [ 6,  6,  6,  6,  6,  6,  6,  6],\n",
      "        [ 6,  6,  6,  6,  6,  6,  6,  6],\n",
      "        [ 6,  6,  6,  6,  6,  4,  6,  6],\n",
      "        [ 5,  5,  5,  5,  5,  5,  5,  5],\n",
      "        [ 2,  4,  3,  1,  0,  3,  6,  2]]), tensor(24))\n"
     ]
    }
   ],
   "source": [
    "print(dataset[1])"
   ]
  },
  {
   "cell_type": "code",
   "execution_count": 12,
   "metadata": {},
   "outputs": [],
   "source": [
    "def get_board(pgn, move):\n",
    "    game = chess.pgn.read_game(io.StringIO(pgn))\n",
    "    board = Board()\n",
    "    # catch board up on game to present\n",
    "    for past_move in list(game.mainline_moves()):\n",
    "        board.push(past_move)\n",
    "    # push the move to score\n",
    "    board.push_san(move)\n",
    "    return board"
   ]
  },
  {
   "cell_type": "code",
   "execution_count": 13,
   "metadata": {},
   "outputs": [],
   "source": [
    "PIECE_CHARS = \"♔♕♖♗♘♙⭘♟♞♝♜♛♚\"\n",
    "\n",
    "def encode_board(board: Board) -> np.array:\n",
    "    # String-encode the board.\n",
    "    # If board.turn = 1 then it is now white's turn which means this is a potential move\n",
    "    # being contemplated by black, and therefore we reverse the char order to rotate the board\n",
    "    # for black's perspective\n",
    "    # If board.turn = 0 then it is now black's turn which means this is a potential move\n",
    "    # being contemplated by white, and therefore we leave the char order as white's perspective.\n",
    "    # Also reverse PIECE_CHARS indexing order if black's turn to reflect \"my\" and \"opponent\" pieces.\n",
    "    step = 1 - 2 * board.turn\n",
    "    unicode = board.unicode().replace(' ','').replace('\\n','')[::step]\n",
    "    return np.array([PIECE_CHARS[::step].index(c) for c in unicode], dtype=int).reshape(8,8)\n",
    "\n"
   ]
  },
  {
   "cell_type": "code",
   "execution_count": 15,
   "metadata": {},
   "outputs": [
    {
     "name": "stdout",
     "output_type": "stream",
     "text": [
      "r n b q k b n r\n",
      ". p p p p p p p\n",
      ". . . . . . . .\n",
      "p . . . . . . .\n",
      ". . B . P . . .\n",
      ". . . . . . . .\n",
      "P P P P . P P P\n",
      "R N B Q K . N R\n",
      "tensor([[[10,  8,  6, 12, 11,  9,  8, 10],\n",
      "         [ 7,  7,  7,  6,  7,  7,  7,  7],\n",
      "         [ 6,  6,  6,  6,  6,  6,  6,  6],\n",
      "         [ 6,  6,  6,  7,  6,  9,  6,  6],\n",
      "         [ 6,  6,  6,  6,  6,  6,  6,  5],\n",
      "         [ 6,  6,  6,  6,  6,  6,  6,  6],\n",
      "         [ 5,  5,  5,  5,  5,  5,  5,  6],\n",
      "         [ 2,  4,  3,  0,  1,  3,  4,  2]]])\n"
     ]
    }
   ],
   "source": [
    "pgn = \"1.e4 a6 2.Bc4 \"\n",
    "move = \"a5\"\n",
    "board = get_board(pgn, move)\n",
    "board_tensor = torch.tensor(encode_board(board)).unsqueeze(0)\n",
    "print(board)\n",
    "print(board_tensor)"
   ]
  },
  {
   "cell_type": "code",
   "execution_count": 16,
   "metadata": {},
   "outputs": [
    {
     "name": "stdout",
     "output_type": "stream",
     "text": [
      "R\n"
     ]
    }
   ],
   "source": [
    "print(board.piece_at(chess.square(0, 0)))\n"
   ]
  },
  {
   "cell_type": "code",
   "execution_count": 116,
   "metadata": {},
   "outputs": [
    {
     "name": "stdout",
     "output_type": "stream",
     "text": [
      "features dim: 41024\n",
      "expected output dim: 82048\n"
     ]
    }
   ],
   "source": [
    "FEATURES_DIM = 64 * (64 * 10 + 1)\n",
    "\n",
    "EXPECTED_OUTPUT_DIM = 2 * FEATURES_DIM\n",
    "print(\"features dim:\", FEATURES_DIM)\n",
    "print(\"expected output dim:\", EXPECTED_OUTPUT_DIM)\n",
    "\n",
    "PIECE_TYPES = [chess.QUEEN, chess.ROOK, chess.BISHOP, chess.KNIGHT, chess.PAWN]\n",
    "COLORS = [chess.BLACK, chess.WHITE]\n",
    "\n",
    "def encode_board(board: Board) -> np.array:\n",
    "    opps = np.zeros(FEATURES_DIM)\n",
    "    mys = np.zeros(FEATURES_DIM)\n",
    "\n",
    "    if board.turn:\n",
    "        my_color = chess.WHITE\n",
    "        opp_color = chess.BLACK \n",
    "    else:\n",
    "        my_color = chess.BLACK  \n",
    "        opp_color = chess.WHITE\n",
    "\n",
    "    my_king, opp_king = board.king(my_color), board.king(opp_color)\n",
    "    print(\"my_king\", my_king, \"opp_king\", opp_king)\n",
    "\n",
    "    for i in range(8):\n",
    "        for j in range(8):\n",
    "            piece = board.piece_at(chess.square(i, j))\n",
    "            if piece and piece.piece_type != chess.KING:\n",
    "                piece_index = PIECE_TYPES.index(piece.piece_type)\n",
    "                print(\"piece index:\", piece_index, \"piece:\", piece)\n",
    "                if piece.color == opp_color:\n",
    "                    opps[(opp_king * (64 * 10 + 1)) + (piece_index * 64) + (i * 8) + j] = 1\n",
    "                else:\n",
    "                    mys[(my_king * (64 * 10 + 1)) + (piece_index * 64) + (i * 8) + j] = 1\n",
    "\n",
    "    # for piece_type in enumerate(PIECE_TYPES):\n",
    "    #     for color in enumerate(COLORS):\n",
    "    #         piece = chess.Piece(piece_type[1], color[1])\n",
    "\n",
    "    #         piece_index = piece.piece_type * 8 + piece.color\n",
    "    #         blacks[black_king * 10 + piece_index] = 1\n",
    "    #         whites[white_king * 10 + piece_index] = 1\n",
    "\n",
    "    # for i in range(8):\n",
    "    #     for j in range(8):\n",
    "    #         piece = board.piece_at(chess.square(i, j))\n",
    "    #         # print(piece)\n",
    "    #         if piece == chess.Piece(chess.KING, chess.BLACK):\n",
    "\n",
    "    #             king = i * 8 + j\n",
    "    #             for color in COLORS:\n",
    "    #                 for piece_type in PIECE_TYPES:\n",
    "    #                     piece = chess.Piece(piece_type, color)\n",
    "    #                     piece_index = piece.piece_type * 8 + piece.color\n",
    "    #                     blacks[king * 10 + piece_index] = 1\n",
    "    #                     whites[king * 10 + piece_index] = 1\n",
    "\n",
    "    return np.concatenate((opps, mys))\n"
   ]
  },
  {
   "cell_type": "code",
   "execution_count": 117,
   "metadata": {},
   "outputs": [
    {
     "name": "stdout",
     "output_type": "stream",
     "text": [
      "my_king 4 opp_king 60\n",
      "piece index: 1 piece: R\n",
      "piece index: 4 piece: P\n",
      "piece index: 4 piece: p\n",
      "piece index: 1 piece: r\n",
      "piece index: 3 piece: N\n",
      "piece index: 4 piece: P\n",
      "piece index: 4 piece: p\n",
      "piece index: 3 piece: n\n",
      "piece index: 2 piece: B\n",
      "piece index: 4 piece: P\n",
      "piece index: 2 piece: B\n",
      "piece index: 4 piece: p\n",
      "piece index: 2 piece: b\n",
      "piece index: 0 piece: Q\n",
      "piece index: 4 piece: P\n",
      "piece index: 4 piece: p\n",
      "piece index: 0 piece: q\n",
      "piece index: 4 piece: P\n",
      "piece index: 4 piece: p\n",
      "piece index: 4 piece: P\n",
      "piece index: 4 piece: p\n",
      "piece index: 2 piece: b\n",
      "piece index: 3 piece: N\n",
      "piece index: 4 piece: P\n",
      "piece index: 4 piece: p\n",
      "piece index: 3 piece: n\n",
      "piece index: 1 piece: R\n",
      "piece index: 4 piece: P\n",
      "piece index: 4 piece: p\n",
      "piece index: 1 piece: r\n",
      "[0. 0. 0. ... 0. 0. 0.]\n",
      "(82048,)\n",
      "1.0\n",
      "30\n"
     ]
    }
   ],
   "source": [
    "encoded = encode_board(board)   \n",
    "print(encoded)\n",
    "print(encoded.shape)\n",
    "\n",
    "print(encoded.max())\n",
    "\n",
    "count = 0\n",
    "for i in encoded:\n",
    "    if i == 1:\n",
    "        count += 1\n",
    "print(count)"
   ]
  },
  {
   "cell_type": "code",
   "execution_count": 26,
   "metadata": {},
   "outputs": [
    {
     "name": "stdout",
     "output_type": "stream",
     "text": [
      "features dim: 41024\n",
      "expected output dim: 82048\n"
     ]
    }
   ],
   "source": [
    "FEATURES_DIM = 64 * (64 * 10 + 1)\n",
    "\n",
    "EXPECTED_OUTPUT_DIM = 2 * FEATURES_DIM\n",
    "print(\"features dim:\", FEATURES_DIM)\n",
    "print(\"expected output dim:\", EXPECTED_OUTPUT_DIM)\n",
    "\n",
    "OPP_PIECE_TYPES = [11, 10, 9, 8, 7]\n",
    "MY_PIECE_TYPES = [1, 2, 3, 4, 5]\n",
    "\n",
    "def encode_dataset(d):\n",
    "    my_king, opp_king = None, None\n",
    "\n",
    "    for i in range(8):\n",
    "        for j in range(8):\n",
    "            piece = d[i][j]\n",
    "            if piece == 0:\n",
    "                my_king = (i, j)\n",
    "            elif piece == 12:\n",
    "                opp_king = (i, j)\n",
    "\n",
    "    opps = np.zeros(FEATURES_DIM)\n",
    "    mys = np.zeros(FEATURES_DIM)\n",
    "\n",
    "    for i in range(8):\n",
    "        for j in range(8):\n",
    "            piece = d[i][j]\n",
    "\n",
    "            if piece != 6 and piece != 12 and piece != 0:\n",
    "                if piece in OPP_PIECE_TYPES:\n",
    "                    piece_index = OPP_PIECE_TYPES.index(piece)\n",
    "                    opps[(opp_king[0]*8+opp_king[1]) * (64 * 10 + 1) + (piece_index * 64) + (i * 8) + j] = 1\n",
    "                elif piece in MY_PIECE_TYPES:\n",
    "                    piece_index = MY_PIECE_TYPES.index(piece)\n",
    "                    mys[(my_king[0]*8+my_king[1]) * (64 * 10 + 1) + (piece_index * 64) + (i * 8) + j] = 1\n",
    "                    \n",
    "    return np.concatenate((opps, mys))\n"
   ]
  },
  {
   "cell_type": "code",
   "execution_count": 28,
   "metadata": {},
   "outputs": [
    {
     "name": "stdout",
     "output_type": "stream",
     "text": [
      "(tensor([[10,  8,  9, 11, 12,  9,  8, 10],\n",
      "        [ 7,  7,  7,  7,  7,  7,  7,  7],\n",
      "        [ 6,  6,  6,  6,  6,  6,  6,  6],\n",
      "        [ 6,  6,  6,  6,  6,  6,  6,  6],\n",
      "        [ 6,  6,  6,  6,  6,  6,  6,  6],\n",
      "        [ 6,  6,  6,  6,  6,  4,  6,  6],\n",
      "        [ 5,  5,  5,  5,  5,  5,  5,  5],\n",
      "        [ 2,  4,  3,  1,  0,  3,  6,  2]]), tensor(24))\n",
      "[0. 0. 0. ... 0. 0. 0.]\n",
      "(82048,)\n",
      "1.0\n",
      "30\n"
     ]
    }
   ],
   "source": [
    "print(dataset[1])\n",
    "encoded_board = encode_dataset(dataset[1][0])\n",
    " \n",
    "print(encoded_board)\n",
    "print(encoded_board.shape)\n",
    "\n",
    "print(encoded_board.max())\n",
    "\n",
    "count = 0\n",
    "for i in encoded_board:\n",
    "    if i == 1:\n",
    "        count += 1\n",
    "print(count)"
   ]
  },
  {
   "cell_type": "code",
   "execution_count": null,
   "metadata": {},
   "outputs": [],
   "source": []
  }
 ],
 "metadata": {
  "kernelspec": {
   "display_name": ".chess",
   "language": "python",
   "name": "python3"
  },
  "language_info": {
   "codemirror_mode": {
    "name": "ipython",
    "version": 3
   },
   "file_extension": ".py",
   "mimetype": "text/x-python",
   "name": "python",
   "nbconvert_exporter": "python",
   "pygments_lexer": "ipython3",
   "version": "3.10.12"
  }
 },
 "nbformat": 4,
 "nbformat_minor": 2
}
